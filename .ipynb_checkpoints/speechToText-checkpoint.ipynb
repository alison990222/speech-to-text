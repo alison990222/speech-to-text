{
 "cells": [
  {
   "cell_type": "code",
   "execution_count": 2,
   "metadata": {},
   "outputs": [
    {
     "data": {
      "text/plain": [
       "'3.8.1'"
      ]
     },
     "execution_count": 2,
     "metadata": {},
     "output_type": "execute_result"
    }
   ],
   "source": [
    "import speech_recognition as sr\n",
    "sr.__version__"
   ]
  },
  {
   "cell_type": "code",
   "execution_count": 50,
   "metadata": {},
   "outputs": [
    {
     "data": {
      "text/plain": [
       "{'alternative': [{'transcript': \"who is she she is my sister what's her name her name is Jennifer where is she in this Photograph she's in Toronto what is that building behind her standing in front of the CN tower location one where is the school it's between the library and the park where is the Post Office it's across from the movie theater where is the Royal Bank it's next to the supermarket where is the gas station it's around the corner from the church where is the barbershop it's near the bus station\",\n",
       "   'confidence': 0.97620809},\n",
       "  {'transcript': \"who is she she is my sister what's her name her name is Jennifer where is she in this Photograph she's in Toronto what is that building behind her she's standing in front of the CN tower location one where is the school it's between the library and the park where is the Post Office it's across from the movie theater where is the Royal Bank it's next to the supermarket where is the gas station it's around the corner from the church where is the barbershop it's near the bus station\"},\n",
       "  {'transcript': \"who is she she is my sister what's her name her name is Jennifer where is she in this Photograph she's in Toronto what is that building behind her to standing in front of the CN tower location one where is the school it's between the library and the park where is the Post Office it's across from the movie theater where is the Royal Bank it's next to the supermarket where is the gas station it's around the corner from the church where is the barbershop it's near the bus station\"},\n",
       "  {'transcript': \"who is she she is my sister what's her name her name is Jennifer where is she in this Photograph she's in Toronto what is that building behind her standing in front of the CN tower location 1 where is the school it's between the library and the park where is the Post Office it's across from the movie theater where is the Royal Bank it's next to the supermarket where is the gas station it's around the corner from the church where is the barbershop it's near the bus station\"},\n",
       "  {'transcript': \"who is she she is my sister what's her name her name is Jennifer where is she in this Photograph she's in Toronto what is that building behind her she's standing in front of the CN tower location 1 where is the school it's between the library and the park where is the Post Office it's across from the movie theater where is the Royal Bank it's next to the supermarket where is the gas station it's around the corner from the church where is the barbershop it's near the bus station\"}],\n",
       " 'final': True}"
      ]
     },
     "execution_count": 50,
     "metadata": {},
     "output_type": "execute_result"
    }
   ],
   "source": [
    "# r = sr.Recognizer()\n",
    " \n",
    "r = sr.Recognizer()\n",
    "test = sr.AudioFile('en.wav')\n",
    " \n",
    "with test as source:\n",
    "    audio = r.record(source)\n",
    "    \n",
    "type(audio)\n",
    " \n",
    "r.recognize_google(audio, language='en-US', show_all= True)\n"
   ]
  },
  {
   "cell_type": "code",
   "execution_count": null,
   "metadata": {},
   "outputs": [],
   "source": [
    "from google.cloud import speech_v1p1beta1\n",
    "import io\n",
    "from google.cloud.speech_v1p1beta1 import enums\n",
    "\n",
    "import os\n",
    "os.environ[\"GOOGLE_APPLICATION_CREDENTIALS\"]=\"cloudAPI.json\"\n",
    "\n",
    "def sample_long_running_recognize(local_file_path):\n",
    "\n",
    "    client = speech_v1p1beta1.SpeechClient()\n",
    "    \n",
    "\n",
    "    enable_speaker_diarization = True\n",
    "\n",
    "    # Optional. Specifies the estimated number of speakers in the conversation.\n",
    "    diarization_speaker_count = 2\n",
    "\n",
    "    # The language of the supplied audio\n",
    "    language_code = \"en-US\"\n",
    "    encoding = enums.RecognitionConfig.AudioEncoding.MP3\n",
    "    config = {\n",
    "        \"enable_speaker_diarization\": enable_speaker_diarization,\n",
    "        \"diarization_speaker_count\": diarization_speaker_count,\n",
    "        \"language_code\": language_code,\n",
    "        \"encoding\":encoding\n",
    "    }\n",
    "    \n",
    "    \n",
    "    with io.open(local_file_path, \"rb\") as f:\n",
    "        content = f.read()\n",
    "    audio = {\"content\": content}\n",
    "\n",
    "    operation = client.long_running_recognize(config, audio)\n",
    "\n",
    "    print(u\"Waiting for operation to complete...\")\n",
    "    response = operation.result()\n",
    "    print(response)\n",
    "\n",
    "    for result in response.results:\n",
    "        # First alternative has words tagged with speakers\n",
    "        alternative = result.alternatives[0]\n",
    "        print(u\"Transcript: {}\".format(alternative.transcript))\n",
    "        # Print the speaker_tag of each word\n",
    "        for word in alternative.words:\n",
    "            print(u\"Word: {}\".format(word.word))\n",
    "            print(u\"Speaker tag: {}\".format(word.speaker_tag))\n",
    "\n",
    "sample_long_running_recognize('en.mp3')"
   ]
  }
 ],
 "metadata": {
  "kernelspec": {
   "display_name": "Python 3",
   "language": "python",
   "name": "python3"
  },
  "language_info": {
   "codemirror_mode": {
    "name": "ipython",
    "version": 3
   },
   "file_extension": ".py",
   "mimetype": "text/x-python",
   "name": "python",
   "nbconvert_exporter": "python",
   "pygments_lexer": "ipython3",
   "version": "3.7.4"
  }
 },
 "nbformat": 4,
 "nbformat_minor": 2
}
