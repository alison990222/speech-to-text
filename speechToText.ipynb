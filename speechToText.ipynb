{
 "cells": [
  {
   "cell_type": "code",
   "execution_count": 1,
   "metadata": {},
   "outputs": [
    {
     "data": {
      "text/plain": [
       "'3.8.1'"
      ]
     },
     "execution_count": 1,
     "metadata": {},
     "output_type": "execute_result"
    }
   ],
   "source": [
    "import speech_recognition as sr\n",
    "sr.__version__"
   ]
  },
  {
   "cell_type": "code",
   "execution_count": 5,
   "metadata": {},
   "outputs": [
    {
     "data": {
      "text/plain": [
       "{'alternative': [{'transcript': '我在清華大學唸書我是一名大三的學生今年已經嚴重不能返校',\n",
       "   'confidence': 0.90237653},\n",
       "  {'transcript': '我在清華大學唸書我是一名大三的學生今年的輕嚴重不能返校'},\n",
       "  {'transcript': '我在清華大學念書我是一名大三的學生今年已經嚴重不能返校'},\n",
       "  {'transcript': '我在清華大學唸書我是一名大三的學生今年紀輕嚴重不能返校'},\n",
       "  {'transcript': '我在清華大學唸書我是一名大三的學生今年的清嚴重不能返校'}],\n",
       " 'final': True}"
      ]
     },
     "execution_count": 5,
     "metadata": {},
     "output_type": "execute_result"
    }
   ],
   "source": [
    "# r = sr.Recognizer()\n",
    " \n",
    "r = sr.Recognizer()\n",
    "test = sr.AudioFile('test.wav')\n",
    " \n",
    "with test as source:\n",
    "    audio = r.record(source)\n",
    "    \n",
    "type(audio)\n",
    " \n",
    "r.recognize_google(audio, language='zh-CN', show_all= True)\n"
   ]
  },
  {
   "cell_type": "code",
   "execution_count": null,
   "metadata": {},
   "outputs": [],
   "source": []
  }
 ],
 "metadata": {
  "kernelspec": {
   "display_name": "Python 3",
   "language": "python",
   "name": "python3"
  },
  "language_info": {
   "codemirror_mode": {
    "name": "ipython",
    "version": 3
   },
   "file_extension": ".py",
   "mimetype": "text/x-python",
   "name": "python",
   "nbconvert_exporter": "python",
   "pygments_lexer": "ipython3",
   "version": "3.7.4"
  }
 },
 "nbformat": 4,
 "nbformat_minor": 2
}
